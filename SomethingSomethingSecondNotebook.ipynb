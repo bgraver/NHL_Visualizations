{
 "cells": [
  {
   "cell_type": "code",
   "execution_count": null,
   "metadata": {},
   "outputs": [
    {
     "data": {
      "text/html": [
       "\n",
       "    <div class=\"bk-root\">\n",
       "        <a href=\"https://bokeh.pydata.org\" target=\"_blank\" class=\"bk-logo bk-logo-small bk-logo-notebook\"></a>\n",
       "        <span id=\"1d55999a-8ed6-4e1c-99af-39ec3a73eaff\">Loading BokehJS ...</span>\n",
       "    </div>"
      ]
     },
     "metadata": {},
     "output_type": "execute_result"
    },
    {
     "data": {},
     "metadata": {},
     "output_type": "display_data"
    }
   ],
   "source": [
    "from bokeh.io import output_notebook, show\n",
    "output_notebook()"
   ]
  },
  {
   "cell_type": "code",
   "execution_count": null,
   "metadata": {},
   "outputs": [
    {
     "data": {
      "text/html": [
       "\n",
       "<div class=\"bk-root\">\n",
       "    <div class=\"bk-plotdiv\" id=\"22a9f3b1-d606-4fe4-b8a9-ecb53e4fc4bf\"></div>\n",
       "</div>"
      ]
     },
     "metadata": {},
     "output_type": "execute_result"
    },
    {
     "data": {},
     "metadata": {
      "application/vnd.bokehjs_exec.v0+json": {
       "id": "62e99917-fdcb-4ead-b496-2855dbb3fb4a"
      }
     },
     "output_type": "display_data"
    }
   ],
   "source": [
    "#Example 2\n",
    "\n",
    "from bokeh.models import ColumnDataSource, HoverTool\n",
    "from bokeh.plotting import figure\n",
    "from bokeh.sampledata.autompg import autompg_clean as df\n",
    "from bokeh.transform import factor_cmap\n",
    "\n",
    "df.cyl = df.cyl.astype(str)\n",
    "df.yr = df.yr.astype(str)\n",
    "\n",
    "group = df.groupby(('cyl', 'mfr'))\n",
    "source = ColumnDataSource(group)\n",
    "\n",
    "p = figure(plot_width=800, plot_height=300, title=\"Mean MPG by # Cylinders and Manufacturer\",\n",
    "           x_range=group, toolbar_location=None, tools=\"\")\n",
    "\n",
    "p.xgrid.grid_line_color = None\n",
    "p.xaxis.axis_label = \"Manufacturer grouped by # Cylinders\"\n",
    "p.xaxis.major_label_orientation = 1.2\n",
    "\n",
    "index_cmap = factor_cmap('cyl_mfr', palette=['#2b83ba', '#abdda4', '#ffffbf', '#fdae61', '#d7191c'], \n",
    "                         factors=sorted(df.cyl.unique()), end=1)\n",
    "\n",
    "p.vbar(x='cyl_mfr', top='mpg_mean', width=1, source=source,\n",
    "       line_color=\"white\", fill_color=index_cmap, \n",
    "       hover_line_color=\"black\", hover_fill_color=index_cmap)\n",
    "\n",
    "p.add_tools(HoverTool(tooltips=[(\"MPG\", \"@mpg_mean\"), (\"Cyl, Mfr\", \"@cyl_mfr\")]))\n",
    "\n",
    "show(p)\n"
   ]
  },
  {
   "cell_type": "code",
   "execution_count": 4,
   "metadata": {},
   "outputs": [
    {
     "name": "stdout",
     "output_type": "stream",
     "text": [
      "6.2.1\n",
      "0.22.0\n",
      "0.12.13\n"
     ]
    }
   ],
   "source": [
    "from IPython import __version__ as ipython_version\n",
    "from pandas import __version__ as pandas_version\n",
    "from bokeh import __version__ as bokeh_version\n",
    "print(ipython_version)\n",
    "print(pandas_version)\n",
    "print(bokeh_version)"
   ]
  },
  {
   "cell_type": "code",
   "execution_count": 11,
   "metadata": {},
   "outputs": [
    {
     "data": {
      "text/html": [
       "\n",
       "<div class=\"bk-root\">\n",
       "    <div class=\"bk-plotdiv\" id=\"8619c2b5-c937-43e1-a1e9-7a4d5100fc59\"></div>\n",
       "</div>"
      ]
     },
     "metadata": {},
     "output_type": "execute_result"
    },
    {
     "data": {},
     "metadata": {
      "application/vnd.bokehjs_exec.v0+json": {
       "id": "73bd6726-027c-4d93-b47d-1281310b7ae2"
      }
     },
     "output_type": "display_data"
    }
   ],
   "source": [
    "# create a new plot with default tools, using figure\n",
    "p = figure(plot_width=400, plot_height=400)\n",
    "\n",
    "# add a circle renderer with a size, color, and alpha\n",
    "p.circle([1, 2, 3, 4, 5], [6, 7, 2, 4, 5], size=20, line_color=\"navy\", fill_color=\"black\", fill_alpha=0.5)\n",
    "\n",
    "show(p) # show the results"
   ]
  },
  {
   "cell_type": "code",
   "execution_count": 6,
   "metadata": {
    "scrolled": true
   },
   "outputs": [
    {
     "data": {
      "text/html": [
       "\n",
       "<div class=\"bk-root\">\n",
       "    <div class=\"bk-plotdiv\" id=\"58fb52f3-91ea-4da1-a2ca-dd3b469b40b2\"></div>\n",
       "</div>"
      ]
     },
     "metadata": {},
     "output_type": "execute_result"
    },
    {
     "data": {},
     "metadata": {
      "application/vnd.bokehjs_exec.v0+json": {
       "id": "a6867a44-2ac6-4a49-8c17-394e993df91c"
      }
     },
     "output_type": "display_data"
    }
   ],
   "source": [
    "# Here is a list of categorical values (or factors)\n",
    "fruits = ['Apples', 'Pears', 'Nectarines', 'Plums', 'Grapes', 'Strawberries']\n",
    "\n",
    "# Set the x_range to the list of categories above\n",
    "p = figure(x_range=fruits, plot_height=250, title=\"Fruit Counts\")\n",
    "\n",
    "# Categorical values can also be used as coordinates\n",
    "p.vbar(x=fruits, top=[5, 3, 4, 2, 4, 6], width=0.9)\n",
    "\n",
    "# Set some properties to make the plot look better\n",
    "p.xgrid.grid_line_color = None\n",
    "p.y_range.start = 0\n",
    "\n",
    "show(p)"
   ]
  },
  {
   "cell_type": "code",
   "execution_count": 2,
   "metadata": {},
   "outputs": [],
   "source": [
    "import json, urllib.request\n",
    "import numpy as np\n",
    "import pandas as pd\n",
    "\n",
    "#loading in the goalie data\n",
    "GoalieList = \"http://www.nhl.com/stats/rest/goalies?isAggregate=false&reportType=goalie_basic&isGame=false&reportName=goaliesummary&sort=[{%22property%22:%22wins%22,%22direction%22:%22DESC%22}]&cayenneExp=gameTypeId=%222%22%20and%20seasonId%3E=20172018%20and%20seasonId%3C=20172018\"\n",
    "with urllib.request.urlopen(GoalieList) as url:  # getting the info into a dictionary\n",
    "    goalie_data = json.loads(url.read().decode())\n",
    "goalie_names = []\n",
    "#goalie_arrays = np.zeros((len(goalie_data['data']), 8))\n",
    "goalie_arrays = np.zeros((8, 95))\n",
    "\n",
    "for i in range(95): #only doing the top 40 goalies\n",
    "#for i in range(len(goalie_data['data'])):\n",
    "    goalie_name = goalie_data['data'][i]['playerName']\n",
    "    #print(goalie_name)\n",
    "    save_pctg = goalie_data['data'][i]['savePctg']\n",
    "    saves = goalie_data['data'][i]['saves'] \n",
    "    shotsAgainst = goalie_data['data'][i]['shotsAgainst']\n",
    "    goalsAgainst = goalie_data['data'][i]['goalsAgainst']\n",
    "    goals_against_average = goalie_data['data'][i]['goalsAgainstAverage']\n",
    "    gamesPlayed = goalie_data['data'][i]['gamesPlayed']\n",
    "    wins = goalie_data['data'][i]['wins']\n",
    "    losses = goalie_data['data'][i]['losses']\n",
    "    \n",
    "    goalie_names.append(goalie_name)\n",
    "    goalie_arrays[0][i] = wins\n",
    "    goalie_arrays[1][i] = losses\n",
    "    goalie_arrays[2][i] = gamesPlayed\n",
    "    goalie_arrays[3][i] = goals_against_average\n",
    "    goalie_arrays[4][i] = goalsAgainst\n",
    "    goalie_arrays[5][i] = shotsAgainst\n",
    "    goalie_arrays[6][i] = save_pctg\n",
    "    goalie_arrays[7][i] = saves\n",
    "    \n",
    "dict_GP = {'name':goalie_names, 'GP':goalie_arrays[2]}\n",
    "df_GP = pd.DataFrame(data=dict_GP)\n",
    "df_GP.sort_values(by=['GP'], ascending = True, inplace = True)\n",
    "#df_GAA.describe()\n",
    "#print(df_GAA)"
   ]
  },
  {
   "cell_type": "code",
   "execution_count": 17,
   "metadata": {
    "scrolled": false
   },
   "outputs": [
    {
     "data": {
      "text/html": [
       "\n",
       "<div class=\"bk-root\">\n",
       "    <div class=\"bk-plotdiv\" id=\"8c3d0f25-22c9-4d8f-a8e0-1bfd69283ae6\"></div>\n",
       "</div>"
      ]
     },
     "metadata": {},
     "output_type": "execute_result"
    },
    {
     "data": {},
     "metadata": {
      "application/vnd.bokehjs_exec.v0+json": {
       "id": "1a560ce0-409f-4af9-a846-5f2da4077ab7"
      }
     },
     "output_type": "display_data"
    }
   ],
   "source": [
    "\n",
    "p = figure(x_range = goalie_names, plot_height = 300, plot_width = 900, title = \"Games Played\")\n",
    "\n",
    "#Sorted by GamesPlayed from (most to least)\n",
    "\n",
    "source = ColumnDataSource(data=dict(name=df_GP['name'].values, \n",
    "                                    GP=df_GP['GP'].values, \n",
    "                                    save_pctg=goalie_arrays[6], \n",
    "                                   ))\n",
    "\n",
    "p.vbar(x = 'name', top='GP', width=.9, source=source)\n",
    "\n",
    "p.y_range.start = 0\n",
    "\n",
    "p.xgrid.grid_line_color = None\n",
    "p.xaxis.axis_label = \"Goalie Names\"\n",
    "p.xaxis.major_label_orientation = 1.2\n",
    "\n",
    "p.add_tools(HoverTool(tooltips=[(\"GP\", \"@GP\"), (\"Name\", \"@name\"), (\"Save %\", \"@save_pctg\")]))\n",
    "\n",
    "show(p)\n"
   ]
  },
  {
   "cell_type": "code",
   "execution_count": null,
   "metadata": {},
   "outputs": [],
   "source": []
  }
 ],
 "metadata": {
  "kernelspec": {
   "display_name": "Python 3",
   "language": "python",
   "name": "python3"
  },
  "language_info": {
   "codemirror_mode": {
    "name": "ipython",
    "version": 3
   },
   "file_extension": ".py",
   "mimetype": "text/x-python",
   "name": "python",
   "nbconvert_exporter": "python",
   "pygments_lexer": "ipython3",
   "version": "3.6.4"
  }
 },
 "nbformat": 4,
 "nbformat_minor": 2
}
